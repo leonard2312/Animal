{
  "nbformat": 4,
  "nbformat_minor": 0,
  "metadata": {
    "colab": {
      "name": "Listas.ipynb",
      "provenance": [],
      "authorship_tag": "ABX9TyN0ObipKCgQc0NrGyYrLIxV",
      "include_colab_link": true
    },
    "kernelspec": {
      "name": "python3",
      "display_name": "Python 3"
    },
    "language_info": {
      "name": "python"
    }
  },
  "cells": [
    {
      "cell_type": "markdown",
      "metadata": {
        "id": "view-in-github",
        "colab_type": "text"
      },
      "source": [
        "<a href=\"https://colab.research.google.com/github/leonard2312/Animal/blob/master/Listas.ipynb\" target=\"_parent\"><img src=\"https://colab.research.google.com/assets/colab-badge.svg\" alt=\"Open In Colab\"/></a>"
      ]
    },
    {
      "cell_type": "code",
      "metadata": {
        "id": "dfom_JfER6Fo"
      },
      "source": [
        "class nodo:\n",
        "  def __init__(self,value,siguiente = None):\n",
        "    self.data = value\n",
        "    self.next = siguiente"
      ],
      "execution_count": 18,
      "outputs": []
    },
    {
      "cell_type": "code",
      "metadata": {
        "colab": {
          "base_uri": "https://localhost:8080/"
        },
        "id": "chFM8TWFTiNd",
        "outputId": "969836cf-5387-439e-ba8c-e9abb49db1aa"
      },
      "source": [
        "head = nodo(30)\n",
        "print(head.data)\n",
        "print(head.next)"
      ],
      "execution_count": 20,
      "outputs": [
        {
          "output_type": "stream",
          "name": "stdout",
          "text": [
            "30\n",
            "None\n"
          ]
        }
      ]
    },
    {
      "cell_type": "code",
      "metadata": {
        "colab": {
          "base_uri": "https://localhost:8080/"
        },
        "id": "U8iPYB7-V4dj",
        "outputId": "afd216df-0aff-465e-f29f-be70346478e2"
      },
      "source": [
        "punto_entrada= nodo(20)\n",
        "punto_entrada = nodo(15)\n",
        "\n",
        "print(punto_entrada.data)\n",
        "print(punto_entrada.data)\n",
        "\n",
        "print(\"Metodo de recursividad\")\n",
        "\n",
        "punto_entrada = nodo(20,nodo(15))\n",
        "print(punto_entrada.data)\n",
        "print(punto_entrada.next.data)"
      ],
      "execution_count": 24,
      "outputs": [
        {
          "output_type": "stream",
          "name": "stdout",
          "text": [
            "15\n",
            "15\n",
            "Metodo de recursividad\n",
            "20\n",
            "15\n"
          ]
        }
      ]
    }
  ]
}