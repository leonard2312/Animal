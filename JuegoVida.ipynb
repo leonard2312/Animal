{
  "nbformat": 4,
  "nbformat_minor": 0,
  "metadata": {
    "colab": {
      "name": "JuegoVida.ipynb",
      "provenance": [],
      "authorship_tag": "ABX9TyMomnaplWAfv1DeamGh+3x6",
      "include_colab_link": true
    },
    "kernelspec": {
      "name": "python3",
      "display_name": "Python 3"
    },
    "language_info": {
      "name": "python"
    }
  },
  "cells": [
    {
      "cell_type": "markdown",
      "metadata": {
        "id": "view-in-github",
        "colab_type": "text"
      },
      "source": [
        "<a href=\"https://colab.research.google.com/github/leonard2312/Animal/blob/master/JuegoVida.ipynb\" target=\"_parent\"><img src=\"https://colab.research.google.com/assets/colab-badge.svg\" alt=\"Open In Colab\"/></a>"
      ]
    },
    {
      "cell_type": "code",
      "metadata": {
        "colab": {
          "base_uri": "https://localhost:8080/"
        },
        "id": "_1E17SkyC0B8",
        "outputId": "a15f172b-8aaa-48b3-e626-1600ce791f35"
      },
      "source": [
        "!pip install simple_chalk"
      ],
      "execution_count": 225,
      "outputs": [
        {
          "output_type": "stream",
          "name": "stdout",
          "text": [
            "Requirement already satisfied: simple_chalk in /usr/local/lib/python3.7/dist-packages (0.1.0)\n"
          ]
        }
      ]
    },
    {
      "cell_type": "code",
      "metadata": {
        "id": "afKIUsAU9x3q"
      },
      "source": [
        "from simple_chalk import chalk , green, red\n",
        "class Array2D():\n",
        "  \n",
        "  def __init__(self, ren, col):\n",
        "    self.__columnas = col\n",
        "    self.__renglones = ren\n",
        "    self.__data = [[ 0 for i in range(col)]for i in range (ren)]\n",
        "\n",
        "  def to_string(self):\n",
        "    for i in range(self.__renglones):\n",
        "      print(self.__data[i])\n",
        "\n",
        "  def clear(self, dato):\n",
        "    for i in range (self.__renglones):\n",
        "      for x in range(self.__columnas):\n",
        "        self.__data[i][x] = dato\n",
        "\n",
        "  def get_row_size(self):\n",
        "    return (self.__renglones)\n",
        "\n",
        "  def get_col_size(self):\n",
        "    return (self.__columnas)\n",
        "  \n",
        "  def set_item(self,ren,col,dato):\n",
        "    self.__data[ren][col] = dato\n",
        "\n",
        "  def get_item(self,ren,col):\n",
        "    return self.__data[ren][col]"
      ],
      "execution_count": 226,
      "outputs": []
    },
    {
      "cell_type": "code",
      "metadata": {
        "colab": {
          "base_uri": "https://localhost:8080/"
        },
        "id": "i6-ZAvQr-HGC",
        "outputId": "57c47ea7-e1a1-4d64-e61e-0e4fefc28cd3"
      },
      "source": [
        "tablero = Array2D (5,5)\n",
        "tablero.clear(\"M\")\n",
        "tablero.to_string()\n",
        "\n",
        "poblacion_in = [(2,1),(4,2),(0,1),(0,0)]\n",
        "for par in poblacion_in:\n",
        "  tablero.set_item(par[0],par[1],'V')\n",
        "\n",
        "print(\"\\n\")\n",
        "tablero.to_string()\n",
        "\n"
      ],
      "execution_count": 227,
      "outputs": [
        {
          "output_type": "stream",
          "name": "stdout",
          "text": [
            "['M', 'M', 'M', 'M', 'M']\n",
            "['M', 'M', 'M', 'M', 'M']\n",
            "['M', 'M', 'M', 'M', 'M']\n",
            "['M', 'M', 'M', 'M', 'M']\n",
            "['M', 'M', 'M', 'M', 'M']\n",
            "\n",
            "\n",
            "['V', 'V', 'M', 'M', 'M']\n",
            "['M', 'M', 'M', 'M', 'M']\n",
            "['M', 'V', 'M', 'M', 'M']\n",
            "['M', 'M', 'M', 'M', 'M']\n",
            "['M', 'M', 'V', 'M', 'M']\n"
          ]
        }
      ]
    },
    {
      "cell_type": "markdown",
      "metadata": {
        "id": "cY41w7VlJ5fJ"
      },
      "source": [
        "Juego de la VIDA\n"
      ]
    },
    {
      "cell_type": "code",
      "metadata": {
        "id": "FV2XopL1J4vc"
      },
      "source": [
        "from simple_chalk import chalk , green, red\n",
        "class JuegoVida:\n",
        "  def __init__( self , rens , cols , lista_pob_ini , generaciones ):\n",
        "    self.__colss = cols\n",
        "    self.__renss = rens\n",
        "    self.tablero = Array2D( rens, cols )\n",
        "    self.generaciones = generaciones\n",
        "    self.gen = 1\n",
        "    self.tablero.clear('M')\n",
        "\n",
        "    for par in lista_pob_ini:\n",
        "      self.tablero.set_item( par[0] , par [1] , 'V')\n",
        "\n",
        "  def to_string(self):\n",
        "      print(f\"------Generacion {self.gen}\")\n",
        "      self.tablero.to_string()\n",
        "\n",
        "  def get_vecinos(self,r,c):\n",
        "    vecinos = []\n",
        "    for ren in range(r-1,r+2,1):\n",
        "      for col in range(c-1,c+2,1):\n",
        "        if ren < 0 or ren >= self.tablero.get_row_size() or col < 0 or col >= self.tablero.get_col_size() or (ren==r and col==c):\n",
        "          pass\n",
        "        else:\n",
        "          vecinos.append((ren,col))\n",
        "        \n",
        "    return vecinos\n",
        "\n",
        "  def get_vecinos_vivos(self,r,c):\n",
        "     vivos = 0\n",
        "     vecinos = self.get_vecinos(r,c);\n",
        "     for par in vecinos:\n",
        "       if self.tablero.get_item(par [0],par [1]) == 'V':\n",
        "         vivos+=1\n",
        "     return vivos\n",
        "  \n",
        "  \n",
        "  def aplicar_regla(self):\n",
        "    loops = 1\n",
        "    loops2 = 1\n",
        "    loopss = 0\n",
        "    loopss2 = 0\n",
        "    reserva1 = []\n",
        "    reserva2 = []\n",
        "    reserva3 = []\n",
        "    reserva4 = []\n",
        "    examinador = 0\n",
        "    examinador2 = 0\n",
        "    for ren2 in range(0,self.__renss,1):\n",
        "      for col2 in range(0,self.__colss,1):\n",
        "        if self.tablero.get_item(ren2,col2) == 'M':\n",
        "          if self.get_vecinos_vivos(ren2,col2) == 3:\n",
        "            for i in range(loopss,loops,1):\n",
        "              reserva1.append(ren2)\n",
        "              reserva2.append(col2)\n",
        "            loopss=loopss+1\n",
        "            loops=loops+1\n",
        "            examinador = 1\n",
        "        \n",
        "        if self.tablero.get_item(ren2,col2) == 'V':\n",
        "          if self.get_vecinos_vivos(ren2,col2) < 2 or self.get_vecinos_vivos(ren2,col2) > 3:\n",
        "            for i2 in range(loopss2,loops2,1):\n",
        "              reserva3.append(ren2)\n",
        "              reserva4.append(col2)\n",
        "            loopss2=loopss2+1\n",
        "            loops2=loops2+1\n",
        "            examinador2 = 1\n",
        "    if examinador == 1:\n",
        "      for desplazo in range(0,loops-1,1):\n",
        "        self.tablero.set_item( reserva1[desplazo] , reserva2[desplazo] , 'V')\n",
        "    if examinador2 == 1:\n",
        "      for desplazo2 in range(0,loops2-1,1):\n",
        "        self.tablero.set_item( reserva3[desplazo2] , reserva4[desplazo2] , 'M')\n",
        "    \n",
        "    self.gen = self.gen+1\n",
        "    self.to_string()\n",
        "    if self.gen < self.generaciones:\n",
        "      self.aplicar_regla()\n",
        "    \n"
      ],
      "execution_count": 292,
      "outputs": []
    },
    {
      "cell_type": "code",
      "metadata": {
        "colab": {
          "base_uri": "https://localhost:8080/"
        },
        "id": "26-G-4K9M0SB",
        "outputId": "869ab794-8c2c-45c1-9140-274c1e434920"
      },
      "source": [
        "Juego = JuegoVida(8,5,[(3,1),(3,2),(3,3)],6)\n",
        "Juego.to_string()\n",
        "\n",
        "Juego.aplicar_regla()\n",
        "Juego.to_string()"
      ],
      "execution_count": 297,
      "outputs": [
        {
          "output_type": "stream",
          "name": "stdout",
          "text": [
            "------Generacion 1\n",
            "['M', 'M', 'M', 'M', 'M']\n",
            "['M', 'M', 'M', 'M', 'M']\n",
            "['M', 'M', 'M', 'M', 'M']\n",
            "['M', 'V', 'V', 'V', 'M']\n",
            "['M', 'M', 'M', 'M', 'M']\n",
            "['M', 'M', 'M', 'M', 'M']\n",
            "['M', 'M', 'M', 'M', 'M']\n",
            "['M', 'M', 'M', 'M', 'M']\n",
            "------Generacion 2\n",
            "['M', 'M', 'M', 'M', 'M']\n",
            "['M', 'M', 'M', 'M', 'M']\n",
            "['M', 'M', 'V', 'M', 'M']\n",
            "['M', 'M', 'V', 'M', 'M']\n",
            "['M', 'M', 'V', 'M', 'M']\n",
            "['M', 'M', 'M', 'M', 'M']\n",
            "['M', 'M', 'M', 'M', 'M']\n",
            "['M', 'M', 'M', 'M', 'M']\n",
            "------Generacion 3\n",
            "['M', 'M', 'M', 'M', 'M']\n",
            "['M', 'M', 'M', 'M', 'M']\n",
            "['M', 'M', 'M', 'M', 'M']\n",
            "['M', 'V', 'V', 'V', 'M']\n",
            "['M', 'M', 'M', 'M', 'M']\n",
            "['M', 'M', 'M', 'M', 'M']\n",
            "['M', 'M', 'M', 'M', 'M']\n",
            "['M', 'M', 'M', 'M', 'M']\n",
            "------Generacion 4\n",
            "['M', 'M', 'M', 'M', 'M']\n",
            "['M', 'M', 'M', 'M', 'M']\n",
            "['M', 'M', 'V', 'M', 'M']\n",
            "['M', 'M', 'V', 'M', 'M']\n",
            "['M', 'M', 'V', 'M', 'M']\n",
            "['M', 'M', 'M', 'M', 'M']\n",
            "['M', 'M', 'M', 'M', 'M']\n",
            "['M', 'M', 'M', 'M', 'M']\n",
            "------Generacion 5\n",
            "['M', 'M', 'M', 'M', 'M']\n",
            "['M', 'M', 'M', 'M', 'M']\n",
            "['M', 'M', 'M', 'M', 'M']\n",
            "['M', 'V', 'V', 'V', 'M']\n",
            "['M', 'M', 'M', 'M', 'M']\n",
            "['M', 'M', 'M', 'M', 'M']\n",
            "['M', 'M', 'M', 'M', 'M']\n",
            "['M', 'M', 'M', 'M', 'M']\n",
            "------Generacion 6\n",
            "['M', 'M', 'M', 'M', 'M']\n",
            "['M', 'M', 'M', 'M', 'M']\n",
            "['M', 'M', 'V', 'M', 'M']\n",
            "['M', 'M', 'V', 'M', 'M']\n",
            "['M', 'M', 'V', 'M', 'M']\n",
            "['M', 'M', 'M', 'M', 'M']\n",
            "['M', 'M', 'M', 'M', 'M']\n",
            "['M', 'M', 'M', 'M', 'M']\n",
            "------Generacion 6\n",
            "['M', 'M', 'M', 'M', 'M']\n",
            "['M', 'M', 'M', 'M', 'M']\n",
            "['M', 'M', 'V', 'M', 'M']\n",
            "['M', 'M', 'V', 'M', 'M']\n",
            "['M', 'M', 'V', 'M', 'M']\n",
            "['M', 'M', 'M', 'M', 'M']\n",
            "['M', 'M', 'M', 'M', 'M']\n",
            "['M', 'M', 'M', 'M', 'M']\n"
          ]
        }
      ]
    },
    {
      "cell_type": "code",
      "metadata": {
        "colab": {
          "base_uri": "https://localhost:8080/",
          "height": 52
        },
        "id": "to6pAKPRDTLM",
        "outputId": "355ed1e4-9797-4a81-ca62-34acfa429899"
      },
      "source": [
        "\"\"\"\n",
        "from simple_chalk import chalk , green, red\n",
        "\n",
        "nombre = \"jose\"\n",
        "edad = 19\n",
        "print(nombre)\n",
        "print(edad)\n",
        "\n",
        "print(chalk.green(nombre))\n",
        "print(chalk.red.bgBlack(edad))\n",
        "\"\"\""
      ],
      "execution_count": 232,
      "outputs": [
        {
          "output_type": "execute_result",
          "data": {
            "application/vnd.google.colaboratory.intrinsic+json": {
              "type": "string"
            },
            "text/plain": [
              "'\\nfrom simple_chalk import chalk , green, red\\n\\nnombre = \"jose\"\\nedad = 19\\nprint(nombre)\\nprint(edad)\\n\\nprint(chalk.green(nombre))\\nprint(chalk.red.bgBlack(edad))\\n'"
            ]
          },
          "metadata": {},
          "execution_count": 232
        }
      ]
    }
  ]
}