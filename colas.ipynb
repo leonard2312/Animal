{
  "nbformat": 4,
  "nbformat_minor": 0,
  "metadata": {
    "colab": {
      "name": "colas.ipynb",
      "provenance": [],
      "authorship_tag": "ABX9TyPyV51Z6xGuU0LaHdCXggcp",
      "include_colab_link": true
    },
    "kernelspec": {
      "name": "python3",
      "display_name": "Python 3"
    },
    "language_info": {
      "name": "python"
    }
  },
  "cells": [
    {
      "cell_type": "markdown",
      "metadata": {
        "id": "view-in-github",
        "colab_type": "text"
      },
      "source": [
        "<a href=\"https://colab.research.google.com/github/leonard2312/Animal/blob/master/colas.ipynb\" target=\"_parent\"><img src=\"https://colab.research.google.com/assets/colab-badge.svg\" alt=\"Open In Colab\"/></a>"
      ]
    },
    {
      "cell_type": "code",
      "metadata": {
        "id": "_reVPdsFsh56"
      },
      "source": [
        "class QueueADT:\n",
        "  def __init__(self):\n",
        "    self.__data = []\n",
        "\n",
        "  def is_empty(self):\n",
        "    return len (self.__data) == 0\n",
        "\n",
        "  def length(self):\n",
        "    return len(self.__data) \n",
        "\n",
        "  def enqueue(self,elem):\n",
        "    self.__data.append(elem)\n",
        "\n",
        "  def dequeue(self):\n",
        "    if not self.is_empty():\n",
        "      return self.__data.pop(0)\n",
        "\n",
        "  def to_string(self):\n",
        "    for elem in self.__data:\n",
        "      print(f\"| {elem}   | <--\",end=\"\")\n",
        "    print(\"\")"
      ],
      "execution_count": 49,
      "outputs": []
    },
    {
      "cell_type": "code",
      "metadata": {
        "id": "u6wwQE25D6SW"
      },
      "source": [
        "class ColaPrioridadAcotada:\n",
        "  def __init__( self,niveles ):\n",
        "    self.__data = [QueueADT() for x in range(niveles) ]\n",
        "    self.length = 0\n",
        "\n",
        "  def is_empty(self):\n",
        "    return self.length == 0\n",
        "\n",
        "  def length(self):\n",
        "    return self.length\n",
        "\n",
        "  def enqueue( self,prioridad,elem):\n",
        "    if prioridad >= 0 and prioridad < len(self.__data):\n",
        "      self.__data[prioridad].enqueue( elem )\n",
        "      self.length += 1\n",
        "\n",
        "  def to_string( self ):\n",
        "    for p in range( len(self.__data) ):\n",
        "      print(f\"prioridad {p} -->\",end=\"\")\n",
        "      self.__data[p].to_string()\n",
        "\n",
        "  def dequeue(self):\n",
        "    for nivel in self.__data:\n",
        "      if not nivel.is_empty():\n",
        "        self.length -= 1\n",
        "        return nivel.dequeue()"
      ],
      "execution_count": 50,
      "outputs": []
    },
    {
      "cell_type": "code",
      "metadata": {
        "colab": {
          "base_uri": "https://localhost:8080/"
        },
        "id": "OAwY0BZ1vqtO",
        "outputId": "4d010201-2b94-46ea-af52-539a8b88871b"
      },
      "source": [
        "cola = QueueADT()\n",
        "\n",
        "print(\"Esta vacio?\",cola.is_empty())\n",
        "print(\"Nm elementos\",cola.length())\n",
        "cola.enqueue(34)\n",
        "cola.to_string()\n",
        "cola.enqueue(32)\n",
        "cola.enqueue(78)\n",
        "cola.enqueue(89)\n",
        "cola.to_string()\n",
        "\n",
        "siguiente = cola.dequeue()\n",
        "\n",
        "print(\"atendiendo a: \",siguiente)\n",
        "cola.to_string()"
      ],
      "execution_count": 51,
      "outputs": [
        {
          "output_type": "stream",
          "name": "stdout",
          "text": [
            "Esta vacio? True\n",
            "Nm elementos 0\n",
            "| 34   | <--\n",
            "| 34   | <--| 32   | <--| 78   | <--| 89   | <--\n",
            "atendiendo a:  34\n",
            "| 32   | <--| 78   | <--| 89   | <--\n"
          ]
        }
      ]
    },
    {
      "cell_type": "code",
      "metadata": {
        "colab": {
          "base_uri": "https://localhost:8080/"
        },
        "id": "a5SZ_ca5EE9P",
        "outputId": "e8533e77-2128-4813-d5bd-8434e6c65a70"
      },
      "source": [
        "cpa = ColaPrioridadAcotada( 7 )\n",
        "cpa.enqueue(4,\"A\")\n",
        "cpa.enqueue(2,\"Z\")\n",
        "cpa.enqueue(4,\"N\")\n",
        "cpa.enqueue(1,\"P\")\n",
        "\n",
        "cpa.to_string()\n",
        "\n",
        "print(\"-----\")\n",
        "\n",
        "sig = cpa.dequeue()\n"
      ],
      "execution_count": 52,
      "outputs": [
        {
          "output_type": "stream",
          "name": "stdout",
          "text": [
            "prioridad 0 -->\n",
            "prioridad 1 -->| P   | <--\n",
            "prioridad 2 -->| Z   | <--\n",
            "prioridad 3 -->\n",
            "prioridad 4 -->| A   | <--| N   | <--\n",
            "prioridad 5 -->\n",
            "prioridad 6 -->\n",
            "-----\n"
          ]
        }
      ]
    },
    {
      "cell_type": "code",
      "metadata": {
        "id": "SV86pYkKHfAU"
      },
      "source": [
        "class ColaDePrioridad:\n",
        "  def __init__(self):\n",
        "    self.__data = []\n",
        "    self.__length = 0\n",
        "\n",
        "  def is_empty(self):\n",
        "    return self.length == 0\n",
        "\n",
        "  def length(self):\n",
        "    return self.length\n",
        "\n",
        "  def enqueue(self,prioridad,elem):\n",
        "    existe = False\n",
        "\n",
        "    for index in range(len(self.__data)):\n",
        "      if self.__data[index][\"p\"] == prioridad:\n",
        "        existe = True\n",
        "        indice = index\n",
        "        break\n",
        "      \n",
        "      if existe:\n",
        "        self.__data[indice][\"cola\"].enqueue(elem)\n",
        "      \n",
        "      else:\n",
        "        self.__data[indice].append( {\"p\":prioridad,\"cola\":QueueADT()})\n",
        "        self.__data[-1][\"cola\"].enqueue(elem)\n",
        "\n",
        "    \n",
        "  def to_string(self):\n",
        "    for level in self.__data:\n",
        "      print(level[\"p\"] ,end=\"=\")\n",
        "      level[\"cola\"].to_string()"
      ],
      "execution_count": 55,
      "outputs": []
    },
    {
      "cell_type": "code",
      "metadata": {
        "id": "5gfDSSvjJV95"
      },
      "source": [
        "cp = ColaDePrioridad()\n",
        "cp.enqueue( 2,\"A\" )\n",
        "cp.enqueue( 4,\"Z\" )\n",
        "cp.enqueue( 1,\"R\" )\n",
        "cp.enqueue( 2,\"B\" )\n",
        "\n",
        "cp.to_string()"
      ],
      "execution_count": 56,
      "outputs": []
    }
  ]
}